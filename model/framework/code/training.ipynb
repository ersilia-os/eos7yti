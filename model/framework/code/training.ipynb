{
 "cells": [
  {
   "cell_type": "code",
   "execution_count": 1,
   "id": "f0e4abe4",
   "metadata": {},
   "outputs": [
    {
     "name": "stderr",
     "output_type": "stream",
     "text": [
      "/home/acomajuncosa/miniconda3/envs/eos7yti/lib/python3.11/site-packages/tqdm/auto.py:21: TqdmWarning: IProgress not found. Please update jupyter and ipywidgets. See https://ipywidgets.readthedocs.io/en/stable/user_install.html\n",
      "  from .autonotebook import tqdm as notebook_tqdm\n"
     ]
    }
   ],
   "source": [
    "import os\n",
    "import pandas as pd\n",
    "import numpy as np\n",
    "import lazyqsar as lq"
   ]
  },
  {
   "cell_type": "code",
   "execution_count": 10,
   "id": "fb1af495",
   "metadata": {},
   "outputs": [
    {
     "name": "stderr",
     "output_type": "stream",
     "text": [
      "WARNING:lazyqsar.descriptors.descriptors:No fitting is necessary for Chemeleon descriptor\n"
     ]
    },
    {
     "name": "stdout",
     "output_type": "stream",
     "text": [
      "Fitting inputs to feature descriptors using chemeleon\n",
      "Transforming inputs to feature descriptors using chemeleon\n"
     ]
    },
    {
     "name": "stderr",
     "output_type": "stream",
     "text": [
      "Transforming CheMeleon descriptors in chunks of 1000: 100%|██████████| 1/1 [00:09<00:00,  9.48s/it]\n"
     ]
    },
    {
     "name": "stdout",
     "output_type": "stream",
     "text": [
      "Performing predictions on input feature of shape: (413, 2048)\n",
      "Quickly deciding the max number of samples to use for the binary classifier.\n",
      "Decided to use max samples: 10000\n",
      "Total samples: 413, positive samples: 123, negative samples: 290\n",
      "Maximum samples per partition: 10000, minimum samples per partition: 30\n",
      "Positive proportion: 0.30\n",
      "Original positive samples: 123, total samples: 413\n",
      "Maximum samples: 10000\n",
      "Sampling 123 positive and 290 negative samples from 413 total samples.\n"
     ]
    },
    {
     "name": "stderr",
     "output_type": "stream",
     "text": [
      "  1%|          | 10/1000 [00:00<00:02, 472.20it/s]\n"
     ]
    },
    {
     "name": "stdout",
     "output_type": "stream",
     "text": [
      "Unique sampled indices matrix shape: (1, 413)\n"
     ]
    },
    {
     "name": "stderr",
     "output_type": "stream",
     "text": [
      "100%|██████████| 1/1 [00:00<00:00, 15.63it/s]\n",
      "INFO:flaml.default.suggest:metafeature distance: 1.3662278842313405\n",
      "[I 2025-07-28 16:15:49,765] A new study created in memory with name: no-name-cfb77488-6224-4078-a586-7d7088e4cbdd\n"
     ]
    },
    {
     "name": "stdout",
     "output_type": "stream",
     "text": [
      "Indices matrix shape after redundancy removal: (1, 413)\n",
      "Original positive negative balance: positive 123, negative 290\n",
      "Avg positive samples: 123.0, avg negative samples: 290.0\n",
      "Fitting model on 413 samples, positive samples: 123, negative samples: 290, number of features 1813\n",
      "Suggested zero-shot hyperparameters: {'n_estimators': 501, 'max_features': 0.24484242524861066, 'criterion': 'entropy', 'max_leaf_nodes': 1156, 'random_state': 12032022, 'verbose': 0, 'class_weight': 'balanced_subsample'}\n",
      "Fitting...\n"
     ]
    },
    {
     "name": "stderr",
     "output_type": "stream",
     "text": [
      "[I 2025-07-28 16:16:00,008] Trial 0 finished with value: 0.8088820150243041 and parameters: {'n_estimators': 501, 'max_features': 0.24484242524861066, 'max_leaf_nodes': 1156, 'criterion': 'entropy'}. Best is trial 0 with value: 0.8088820150243041.\n",
      "[I 2025-07-28 16:16:16,327] Trial 1 finished with value: 0.8123434968331124 and parameters: {'n_estimators': 476, 'max_features': 0.4253823424614421, 'max_leaf_nodes': 812, 'criterion': 'entropy'}. Best is trial 1 with value: 0.8123434968331124.\n",
      "[I 2025-07-28 16:16:22,722] Trial 2 finished with value: 0.8079245838856975 and parameters: {'n_estimators': 521, 'max_features': 0.1116027783762826, 'max_leaf_nodes': 379, 'criterion': 'entropy'}. Best is trial 1 with value: 0.8123434968331124.\n",
      "[I 2025-07-28 16:16:35,457] Trial 3 finished with value: 0.8130063337752246 and parameters: {'n_estimators': 412, 'max_features': 0.39200309009026957, 'max_leaf_nodes': 683, 'criterion': 'entropy'}. Best is trial 3 with value: 0.8130063337752246.\n",
      "[I 2025-07-28 16:16:39,599] Trial 4 finished with value: 0.8122698482839888 and parameters: {'n_estimators': 543, 'max_features': 0.058127631650270836, 'max_leaf_nodes': 1111, 'criterion': 'entropy'}. Best is trial 3 with value: 0.8130063337752246.\n",
      "[I 2025-07-28 16:16:46,759] Trial 5 pruned. \n",
      "[I 2025-07-28 16:16:46,759] Trial 6 pruned. \n",
      "[I 2025-07-28 16:16:46,760] Trial 7 pruned. \n",
      "[I 2025-07-28 16:16:46,760] Trial 8 pruned. \n",
      "[I 2025-07-28 16:16:46,761] Trial 9 pruned. \n",
      "[I 2025-07-28 16:16:46,761] Trial 10 pruned. \n",
      "[I 2025-07-28 16:16:46,762] Trial 11 pruned. \n",
      "[I 2025-07-28 16:16:46,762] Trial 12 pruned. \n",
      "[I 2025-07-28 16:16:46,763] Trial 13 pruned. \n",
      "[I 2025-07-28 16:16:46,763] Trial 14 pruned. \n",
      "[I 2025-07-28 16:16:46,764] Trial 15 pruned. \n",
      "[I 2025-07-28 16:16:46,764] Trial 16 pruned. \n",
      "[I 2025-07-28 16:16:46,765] Trial 17 pruned. \n",
      "[I 2025-07-28 16:16:46,765] Trial 18 pruned. \n",
      "[I 2025-07-28 16:16:46,765] Trial 19 pruned. \n"
     ]
    },
    {
     "name": "stdout",
     "output_type": "stream",
     "text": [
      "Early stopping: No significant improvement in the last 5 trials.\n",
      "Skipping trial due to early stopping criteria.\n",
      "Skipping trial due to early stopping criteria.\n",
      "Skipping trial due to early stopping criteria.\n",
      "Skipping trial due to early stopping criteria.\n",
      "Skipping trial due to early stopping criteria.\n",
      "Skipping trial due to early stopping criteria.\n",
      "Skipping trial due to early stopping criteria.\n",
      "Skipping trial due to early stopping criteria.\n",
      "Skipping trial due to early stopping criteria.\n",
      "Skipping trial due to early stopping criteria.\n",
      "Skipping trial due to early stopping criteria.\n",
      "Skipping trial due to early stopping criteria.\n",
      "Skipping trial due to early stopping criteria.\n",
      "Skipping trial due to early stopping criteria.\n",
      "Best hyperparameters: {'n_estimators': 412, 'max_features': 0.39200309009026957, 'max_leaf_nodes': 683, 'criterion': 'entropy', 'n_jobs': 8, 'random_state': 42, 'class_weight': 'balanced_subsample'}, Inner hyperparameter AUROC: 0.8130063337752246\n",
      "Internal AUROC CV-0: 0.8303137428192665\n",
      "Internal AUROC CV-1: 0.8186036235086169\n",
      "Internal AUROC CV-2: 0.8853292090145825\n",
      "Logistic regression for calibration...\n",
      "Calibration based on logistic regression fit done.\n",
      "Average AUROC: 0.8447488584474887\n",
      "Model fitted.\n",
      "Fitting completed in 80.45 seconds.\n",
      "LazyQSAR Saving model to ../../checkpoints/osm_all_bin1\n",
      "Creating model directory: ../../checkpoints/osm_all_bin1\n",
      "Saving reducer to ../../checkpoints/osm_all_bin1/partition_000/reducer.joblib\n",
      "Saving model to ../../checkpoints/osm_all_bin1/partition_000\n",
      "Saving done!\n"
     ]
    }
   ],
   "source": [
    "# Get data\n",
    "train = pd.read_csv(\"../data/osm_all_bin1.csv\")\n",
    "X, Y = train[\"st_smiles\"].tolist(), train[\"bin\"].tolist()\n",
    "\n",
    "# Run LQ\n",
    "model = lq.LazyBinaryQSAR(descriptor_type='chemeleon', \n",
    "                            model_type='random_forest', \n",
    "                            num_trials=20,\n",
    "                            pca=False)  \n",
    "\n",
    "\n",
    "model.fit(X, Y)\n",
    "model.save_model(f\"../../checkpoints/osm_all_bin1\")"
   ]
  },
  {
   "cell_type": "code",
   "execution_count": 11,
   "id": "36d664c9",
   "metadata": {},
   "outputs": [
    {
     "name": "stderr",
     "output_type": "stream",
     "text": [
      "WARNING:lazyqsar.descriptors.descriptors:No fitting is necessary for Chemeleon descriptor\n"
     ]
    },
    {
     "name": "stdout",
     "output_type": "stream",
     "text": [
      "Fitting inputs to feature descriptors using chemeleon\n",
      "Transforming inputs to feature descriptors using chemeleon\n"
     ]
    },
    {
     "name": "stderr",
     "output_type": "stream",
     "text": [
      "Transforming CheMeleon descriptors in chunks of 1000: 100%|██████████| 1/1 [00:11<00:00, 11.63s/it]\n"
     ]
    },
    {
     "name": "stdout",
     "output_type": "stream",
     "text": [
      "Performing predictions on input feature of shape: (413, 2048)\n",
      "Quickly deciding the max number of samples to use for the binary classifier.\n",
      "Decided to use max samples: 10000\n",
      "Total samples: 413, positive samples: 175, negative samples: 238\n",
      "Maximum samples per partition: 10000, minimum samples per partition: 30\n",
      "Positive proportion: 0.42\n",
      "Original positive samples: 175, total samples: 413\n",
      "Maximum samples: 10000\n",
      "Sampling 175 positive and 238 negative samples from 413 total samples.\n"
     ]
    },
    {
     "name": "stderr",
     "output_type": "stream",
     "text": [
      "  1%|          | 10/1000 [00:00<00:01, 564.90it/s]\n"
     ]
    },
    {
     "name": "stdout",
     "output_type": "stream",
     "text": [
      "Unique sampled indices matrix shape: (1, 413)\n"
     ]
    },
    {
     "name": "stderr",
     "output_type": "stream",
     "text": [
      "100%|██████████| 1/1 [00:00<00:00, 17.44it/s]\n",
      "INFO:flaml.default.suggest:metafeature distance: 1.3662278842313405\n",
      "[I 2025-07-28 16:18:14,706] A new study created in memory with name: no-name-cc1aa81f-a998-4050-b7cd-8b5e943a0cde\n"
     ]
    },
    {
     "name": "stdout",
     "output_type": "stream",
     "text": [
      "Indices matrix shape after redundancy removal: (1, 413)\n",
      "Original positive negative balance: positive 175, negative 238\n",
      "Avg positive samples: 175.0, avg negative samples: 238.0\n",
      "Fitting model on 413 samples, positive samples: 175, negative samples: 238, number of features 1813\n",
      "Suggested zero-shot hyperparameters: {'n_estimators': 501, 'max_features': 0.24484242524861066, 'criterion': 'entropy', 'max_leaf_nodes': 1156, 'random_state': 12032022, 'verbose': 0, 'class_weight': 'balanced_subsample'}\n",
      "Fitting...\n"
     ]
    },
    {
     "name": "stderr",
     "output_type": "stream",
     "text": [
      "[I 2025-07-28 16:18:29,798] Trial 0 finished with value: 0.9 and parameters: {'n_estimators': 501, 'max_features': 0.24484242524861066, 'max_leaf_nodes': 1156, 'criterion': 'entropy'}. Best is trial 0 with value: 0.9.\n",
      "[I 2025-07-28 16:18:51,486] Trial 1 finished with value: 0.9069444444444446 and parameters: {'n_estimators': 476, 'max_features': 0.4253823424614421, 'max_leaf_nodes': 812, 'criterion': 'entropy'}. Best is trial 1 with value: 0.9069444444444446.\n",
      "[I 2025-07-28 16:19:01,205] Trial 2 finished with value: 0.8997474747474747 and parameters: {'n_estimators': 521, 'max_features': 0.1116027783762826, 'max_leaf_nodes': 379, 'criterion': 'entropy'}. Best is trial 1 with value: 0.9069444444444446.\n",
      "[I 2025-07-28 16:19:19,197] Trial 3 finished with value: 0.9039141414141415 and parameters: {'n_estimators': 412, 'max_features': 0.39200309009026957, 'max_leaf_nodes': 683, 'criterion': 'entropy'}. Best is trial 1 with value: 0.9069444444444446.\n",
      "[I 2025-07-28 16:19:26,220] Trial 4 finished with value: 0.8986111111111111 and parameters: {'n_estimators': 543, 'max_features': 0.058127631650270836, 'max_leaf_nodes': 1111, 'criterion': 'entropy'}. Best is trial 1 with value: 0.9069444444444446.\n",
      "[I 2025-07-28 16:19:37,973] Trial 5 pruned. \n",
      "[I 2025-07-28 16:19:37,973] Trial 6 pruned. \n",
      "[I 2025-07-28 16:19:37,974] Trial 7 pruned. \n",
      "[I 2025-07-28 16:19:37,974] Trial 8 pruned. \n",
      "[I 2025-07-28 16:19:37,974] Trial 9 pruned. \n",
      "[I 2025-07-28 16:19:37,975] Trial 10 pruned. \n",
      "[I 2025-07-28 16:19:37,975] Trial 11 pruned. \n",
      "[I 2025-07-28 16:19:37,976] Trial 12 pruned. \n",
      "[I 2025-07-28 16:19:37,976] Trial 13 pruned. \n",
      "[I 2025-07-28 16:19:37,977] Trial 14 pruned. \n",
      "[I 2025-07-28 16:19:37,977] Trial 15 pruned. \n",
      "[I 2025-07-28 16:19:37,978] Trial 16 pruned. \n",
      "[I 2025-07-28 16:19:37,979] Trial 17 pruned. \n",
      "[I 2025-07-28 16:19:37,979] Trial 18 pruned. \n",
      "[I 2025-07-28 16:19:37,979] Trial 19 pruned. \n"
     ]
    },
    {
     "name": "stdout",
     "output_type": "stream",
     "text": [
      "Early stopping: No significant improvement in the last 5 trials.\n",
      "Skipping trial due to early stopping criteria.\n",
      "Skipping trial due to early stopping criteria.\n",
      "Skipping trial due to early stopping criteria.\n",
      "Skipping trial due to early stopping criteria.\n",
      "Skipping trial due to early stopping criteria.\n",
      "Skipping trial due to early stopping criteria.\n",
      "Skipping trial due to early stopping criteria.\n",
      "Skipping trial due to early stopping criteria.\n",
      "Skipping trial due to early stopping criteria.\n",
      "Skipping trial due to early stopping criteria.\n",
      "Skipping trial due to early stopping criteria.\n",
      "Skipping trial due to early stopping criteria.\n",
      "Skipping trial due to early stopping criteria.\n",
      "Skipping trial due to early stopping criteria.\n",
      "Best hyperparameters: {'n_estimators': 476, 'max_features': 0.4253823424614421, 'max_leaf_nodes': 812, 'criterion': 'entropy', 'n_jobs': 8, 'random_state': 42, 'class_weight': 'balanced_subsample'}, Inner hyperparameter AUROC: 0.9069444444444446\n",
      "Internal AUROC CV-0: 0.8909090909090909\n",
      "Internal AUROC CV-1: 0.8924242424242425\n",
      "Internal AUROC CV-2: 0.8448863636363636\n",
      "Logistic regression for calibration...\n",
      "Calibration based on logistic regression fit done.\n",
      "Average AUROC: 0.8760732323232322\n",
      "Model fitted.\n",
      "Fitting completed in 113.25 seconds.\n",
      "LazyQSAR Saving model to ../../checkpoints/osm_all_bin25\n",
      "Creating model directory: ../../checkpoints/osm_all_bin25\n",
      "Saving reducer to ../../checkpoints/osm_all_bin25/partition_000/reducer.joblib\n",
      "Saving model to ../../checkpoints/osm_all_bin25/partition_000\n",
      "Saving done!\n"
     ]
    }
   ],
   "source": [
    "# Get data\n",
    "train = pd.read_csv(\"../data/osm_all_bin25.csv\")\n",
    "X, Y = train[\"st_smiles\"].tolist(), train[\"bin\"].tolist()\n",
    "\n",
    "# Run LQ\n",
    "model = lq.LazyBinaryQSAR(descriptor_type='chemeleon', \n",
    "                            model_type='random_forest', \n",
    "                            num_trials=20,\n",
    "                            pca=False)  \n",
    "\n",
    "\n",
    "model.fit(X, Y)\n",
    "model.save_model(f\"../../checkpoints/osm_all_bin25\")\n"
   ]
  },
  {
   "cell_type": "code",
   "execution_count": null,
   "id": "6633906c",
   "metadata": {},
   "outputs": [],
   "source": []
  }
 ],
 "metadata": {
  "kernelspec": {
   "display_name": "eos7yti",
   "language": "python",
   "name": "python3"
  },
  "language_info": {
   "codemirror_mode": {
    "name": "ipython",
    "version": 3
   },
   "file_extension": ".py",
   "mimetype": "text/x-python",
   "name": "python",
   "nbconvert_exporter": "python",
   "pygments_lexer": "ipython3",
   "version": "3.11.13"
  }
 },
 "nbformat": 4,
 "nbformat_minor": 5
}
